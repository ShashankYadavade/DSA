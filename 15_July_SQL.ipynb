{
 "cells": [
  {
   "cell_type": "markdown",
   "id": "9aa2dd78",
   "metadata": {},
   "source": [
    "## 1. SQL query to retrieve the names and email addresses of all employees from a table named \"Employees\":"
   ]
  },
  {
   "cell_type": "markdown",
   "id": "92747e1d",
   "metadata": {},
   "source": [
    "### CODE"
   ]
  },
  {
   "cell_type": "code",
   "execution_count": null,
   "id": "1ee263f9",
   "metadata": {},
   "outputs": [],
   "source": [
    "SELECT name, email FROM Employees;\n"
   ]
  },
  {
   "cell_type": "markdown",
   "id": "269ccdac",
   "metadata": {},
   "source": [
    "### Explaination"
   ]
  },
  {
   "cell_type": "markdown",
   "id": "ecb98abd",
   "metadata": {},
   "source": [
    "This query selects the \"name\" and \"email\" columns from the \"Employees\" table. \n",
    "It retrieves all rows from the table and returns the names and email addresses of all employees."
   ]
  },
  {
   "cell_type": "code",
   "execution_count": null,
   "id": "31507c2f",
   "metadata": {},
   "outputs": [],
   "source": []
  },
  {
   "cell_type": "markdown",
   "id": "fa234caa",
   "metadata": {},
   "source": [
    "## 2. SQL query to filter records from a table named \"Customers\" where the \"City\" column is 'New York'"
   ]
  },
  {
   "cell_type": "markdown",
   "id": "e46fe96c",
   "metadata": {},
   "source": [
    "### CODE"
   ]
  },
  {
   "cell_type": "code",
   "execution_count": null,
   "id": "7dda6624",
   "metadata": {},
   "outputs": [],
   "source": [
    "SELECT * FROM Customers WHERE City = 'New York';\n"
   ]
  },
  {
   "cell_type": "markdown",
   "id": "d86ab09a",
   "metadata": {},
   "source": [
    "### Explaination"
   ]
  },
  {
   "cell_type": "markdown",
   "id": "c6eccb02",
   "metadata": {},
   "source": [
    "This query selects all columns (*) from the \"Customers\" table. \n",
    "It filters the records based on the condition City = 'New York', returning only the rows where the city is 'New York'.\n",
    "\n"
   ]
  },
  {
   "cell_type": "code",
   "execution_count": null,
   "id": "83a091c4",
   "metadata": {},
   "outputs": [],
   "source": []
  },
  {
   "cell_type": "markdown",
   "id": "937413ff",
   "metadata": {},
   "source": [
    "## 3. SQL query to sort records in descending order based on the \"DateOfBirth\" column in a table named \"Users\""
   ]
  },
  {
   "cell_type": "markdown",
   "id": "c9bfe66b",
   "metadata": {},
   "source": [
    "### QUERY"
   ]
  },
  {
   "cell_type": "code",
   "execution_count": null,
   "id": "1291da7c",
   "metadata": {},
   "outputs": [],
   "source": [
    "SELECT * FROM Users ORDER BY DateOfBirth DESC;\n"
   ]
  },
  {
   "cell_type": "markdown",
   "id": "3643766a",
   "metadata": {},
   "source": [
    "### Explaination"
   ]
  },
  {
   "cell_type": "markdown",
   "id": "a4d32c80",
   "metadata": {},
   "source": [
    "This query selects all columns (*) from the \"Users\" table. \n",
    "It sorts the records in descending order (DESC) based on the \"DateOfBirth\" column, which means the records will be displayed from the latest date of birth to the earliest.\n",
    "\n"
   ]
  },
  {
   "cell_type": "code",
   "execution_count": null,
   "id": "9034518e",
   "metadata": {},
   "outputs": [],
   "source": []
  },
  {
   "cell_type": "markdown",
   "id": "20dc07ec",
   "metadata": {},
   "source": [
    "## 4. SQL query to sort records in ascending order based on the \"RegistrationDate\" column in a table named \"Users\""
   ]
  },
  {
   "cell_type": "markdown",
   "id": "3dce4c29",
   "metadata": {},
   "source": [
    "### QUERY"
   ]
  },
  {
   "cell_type": "code",
   "execution_count": null,
   "id": "cf288b02",
   "metadata": {},
   "outputs": [],
   "source": [
    "SELECT * FROM Users ORDER BY RegistrationDate ASC;\n"
   ]
  },
  {
   "cell_type": "markdown",
   "id": "cb441532",
   "metadata": {},
   "source": [
    "### EXPLAINATION"
   ]
  },
  {
   "cell_type": "markdown",
   "id": "4345a694",
   "metadata": {},
   "source": [
    "This query selects all columns (*) from the \"Users\" table. \n",
    "It sorts the records in ascending order (ASC) based on the \"RegistrationDate\" column, which means the records will be displayed from the earliest registration date to the latest."
   ]
  },
  {
   "cell_type": "code",
   "execution_count": null,
   "id": "e268604f",
   "metadata": {},
   "outputs": [],
   "source": []
  },
  {
   "cell_type": "markdown",
   "id": "ea42e532",
   "metadata": {},
   "source": [
    "## 5. SQL query to find the employee with the highest salary from a table named \"Employees\" and display their name, position, and salary"
   ]
  },
  {
   "cell_type": "markdown",
   "id": "25c05576",
   "metadata": {},
   "source": [
    "### QUERY"
   ]
  },
  {
   "cell_type": "code",
   "execution_count": null,
   "id": "3c032da8",
   "metadata": {},
   "outputs": [],
   "source": [
    "SELECT name, position, salary FROM Employees ORDER BY salary DESC LIMIT 1;\n"
   ]
  },
  {
   "cell_type": "markdown",
   "id": "fe7d3714",
   "metadata": {},
   "source": [
    "### EXPLAINATION"
   ]
  },
  {
   "cell_type": "markdown",
   "id": "67760b9c",
   "metadata": {},
   "source": [
    "This query selects the \"name,\" \"position,\" and \"salary\" columns from the \"Employees\" table.\n",
    "It sorts the records in descending order (DESC) based on the \"salary\" column and retrieves only the first row (LIMIT 1), which represents the employee with the highest salary."
   ]
  },
  {
   "cell_type": "code",
   "execution_count": null,
   "id": "91bbc77d",
   "metadata": {},
   "outputs": [],
   "source": []
  },
  {
   "cell_type": "markdown",
   "id": "853ad6c7",
   "metadata": {},
   "source": [
    "## 6. SQL query to retrieve records from a table named \"Customers\" where the \"Phone\" column matches the pattern '+1-XXX-XXX-XXXX'"
   ]
  },
  {
   "cell_type": "markdown",
   "id": "7df6a0a2",
   "metadata": {},
   "source": [
    "## QUERY"
   ]
  },
  {
   "cell_type": "code",
   "execution_count": null,
   "id": "a8093d6d",
   "metadata": {},
   "outputs": [],
   "source": [
    "SELECT * FROM Customers WHERE Phone LIKE '+1-___-___-____';\n"
   ]
  },
  {
   "cell_type": "markdown",
   "id": "cc826686",
   "metadata": {},
   "source": [
    "### EXPLAINATION"
   ]
  },
  {
   "cell_type": "markdown",
   "id": "fd5d8a17",
   "metadata": {},
   "source": [
    "This query selects all columns (*) from the \"Customers\" table. \n",
    "It filters the records using the LIKE operator and the pattern '+1---____', where each underscore represents a digit (0-9). This pattern matches phone numbers in the format '+1-XXX-XXX-XXXX'.\n",
    "\n"
   ]
  },
  {
   "cell_type": "code",
   "execution_count": null,
   "id": "906e7c70",
   "metadata": {},
   "outputs": [],
   "source": []
  },
  {
   "cell_type": "markdown",
   "id": "f42efd59",
   "metadata": {},
   "source": [
    "## 7. SQL query to retrieve the top 5 customers with the highest total purchase amount from a table named \"Orders\" and display their names and total purchase amounts"
   ]
  },
  {
   "cell_type": "markdown",
   "id": "8d7ef90d",
   "metadata": {},
   "source": [
    "### QUERY"
   ]
  },
  {
   "cell_type": "code",
   "execution_count": null,
   "id": "0d21c917",
   "metadata": {},
   "outputs": [],
   "source": [
    "SELECT name, SUM(purchase_amount) AS total_purchase_amount\n",
    "FROM Orders\n",
    "GROUP BY name\n",
    "ORDER BY total_purchase_amount DESC\n",
    "LIMIT 5;\n"
   ]
  },
  {
   "cell_type": "markdown",
   "id": "e50dfeea",
   "metadata": {},
   "source": [
    "## EXPLAINATION"
   ]
  },
  {
   "cell_type": "markdown",
   "id": "759fe600",
   "metadata": {},
   "source": [
    "This query selects the \"name\" column and calculates the sum of the \"purchase_amount\" column, renaming it as \"total_purchase_amount.\" \n",
    "It performs the calculation for each customer by grouping the records using GROUP BY name. \n",
    "The results are then sorted in descending order (DESC) based on the total purchase amount and limited to the top 5 rows (LIMIT 5).\n",
    "\n"
   ]
  },
  {
   "cell_type": "code",
   "execution_count": null,
   "id": "ca697083",
   "metadata": {},
   "outputs": [],
   "source": []
  },
  {
   "cell_type": "markdown",
   "id": "1fb3fab7",
   "metadata": {},
   "source": [
    "## 8. SQL query to calculate the percentage of sales for each product category in a table named \"Sales\" and display the category name, total sales amount, and the percentage of total sales"
   ]
  },
  {
   "cell_type": "markdown",
   "id": "05b61740",
   "metadata": {},
   "source": [
    "### QUERY"
   ]
  },
  {
   "cell_type": "code",
   "execution_count": null,
   "id": "7acfbc6c",
   "metadata": {},
   "outputs": [],
   "source": [
    "SELECT category_name, SUM(sales_amount) AS total_sales_amount,\n",
    "       (SUM(sales_amount) / (SELECT SUM(sales_amount) FROM Sales)) * 100 AS sales_percentage\n",
    "FROM Sales\n",
    "GROUP BY category_name;\n"
   ]
  },
  {
   "cell_type": "markdown",
   "id": "3c24a9e2",
   "metadata": {},
   "source": [
    "## EXPLAINATION"
   ]
  },
  {
   "cell_type": "markdown",
   "id": "a49739d0",
   "metadata": {},
   "source": [
    "This query selects the \"category_name\" column and calculates the sum of the \"sales_amount\" column, renaming it as \"total_sales_amount.\" \n",
    "It also calculates the percentage of each category's sales by dividing the total sales amount for each category by the overall sum of sales amounts from the \"Sales\" table. \n",
    "The percentage is multiplied by 100 to get a percentage value. The results are grouped by the \"category_name\" column."
   ]
  },
  {
   "cell_type": "code",
   "execution_count": null,
   "id": "c7b64d69",
   "metadata": {},
   "outputs": [],
   "source": []
  },
  {
   "cell_type": "markdown",
   "id": "8684b0bc",
   "metadata": {},
   "source": [
    "## 9. SQL query to find the customers who have made the highest total purchases across all years from a table named \"Orders\" and display their names, email addresses, and the total purchase amount"
   ]
  },
  {
   "cell_type": "markdown",
   "id": "a9174dd0",
   "metadata": {},
   "source": [
    "### QUERY"
   ]
  },
  {
   "cell_type": "code",
   "execution_count": null,
   "id": "b23e918a",
   "metadata": {},
   "outputs": [],
   "source": [
    "SELECT name, email, SUM(purchase_amount) AS total_purchase_amount\n",
    "FROM Orders\n",
    "GROUP BY name, email\n",
    "HAVING total_purchase_amount = (SELECT MAX(total_purchase_amount) FROM (SELECT SUM(purchase_amount) AS total_purchase_amount FROM Orders GROUP BY name, email) AS subquery);\n"
   ]
  },
  {
   "cell_type": "markdown",
   "id": "70462930",
   "metadata": {},
   "source": [
    "## EXPLANATION"
   ]
  },
  {
   "cell_type": "markdown",
   "id": "008537d9",
   "metadata": {},
   "source": [
    "This query selects the \"name\" and \"email\" columns from the \"Orders\" table and calculates the sum of the \"purchase_amount\" column, renaming it as \"total_purchase_amount.\" \n",
    "The results are grouped by the \"name\" and \"email\" columns.\n",
    "The HAVING clause filters the groups to include only those with a total purchase amount equal to the maximum total purchase amount calculated across all customers. \n",
    "This is achieved using a subquery that calculates the total purchase amount for each customer and then finds the maximum value.\n",
    "\n",
    "\n",
    "\n",
    "\n"
   ]
  },
  {
   "cell_type": "code",
   "execution_count": null,
   "id": "0c733164",
   "metadata": {},
   "outputs": [],
   "source": []
  }
 ],
 "metadata": {
  "kernelspec": {
   "display_name": "Python 3 (ipykernel)",
   "language": "python",
   "name": "python3"
  },
  "language_info": {
   "codemirror_mode": {
    "name": "ipython",
    "version": 3
   },
   "file_extension": ".py",
   "mimetype": "text/x-python",
   "name": "python",
   "nbconvert_exporter": "python",
   "pygments_lexer": "ipython3",
   "version": "3.10.9"
  }
 },
 "nbformat": 4,
 "nbformat_minor": 5
}
