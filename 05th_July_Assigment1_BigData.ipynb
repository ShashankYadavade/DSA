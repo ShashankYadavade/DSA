{
 "cells": [
  {
   "cell_type": "markdown",
   "id": "bd755398",
   "metadata": {},
   "source": [
    "# 1. Write a Python program to check if a given string is an anagram."
   ]
  },
  {
   "cell_type": "code",
   "execution_count": 2,
   "id": "22a39940",
   "metadata": {},
   "outputs": [],
   "source": [
    "def is_anagram(str1, str2):\n",
    "    # Removing any whitespace and convert both strings to lowercase\n",
    "    str1 = str1.replace(\" \", \"\").lower()\n",
    "    str2 = str2.replace(\" \", \"\").lower()\n",
    "\n",
    "    # Checking if the lengths of the strings are equal\n",
    "    if len(str1) != len(str2):\n",
    "        return False\n",
    "\n",
    "    # Creating dictionaries to store character frequencies\n",
    "    char_count1 = {}\n",
    "    char_count2 = {}\n",
    "\n",
    "    # Counting the frequencies of characters in str1\n",
    "    for char in str1:\n",
    "        char_count1[char] = char_count1.get(char, 0) + 1\n",
    "\n",
    "    # Counting the frequencies of characters in str2\n",
    "    for char in str2:\n",
    "        char_count2[char] = char_count2.get(char, 0) + 1\n",
    "\n",
    "    # Comparing the dictionaries\n",
    "    if char_count1 == char_count2:\n",
    "        return True\n",
    "    else:\n",
    "        return False\n",
    "\n",
    "\n"
   ]
  },
  {
   "cell_type": "code",
   "execution_count": 3,
   "id": "273478a8",
   "metadata": {},
   "outputs": [
    {
     "name": "stdout",
     "output_type": "stream",
     "text": [
      "listen and silent are anagrams.\n"
     ]
    }
   ],
   "source": [
    "# Test the function\n",
    "word1 = \"listen\"\n",
    "word2 = \"silent\"\n",
    "if is_anagram(word1, word2):\n",
    "    print(f\"{word1} and {word2} are anagrams.\")\n",
    "else:\n",
    "    print(f\"{word1} and {word2} are not anagrams.\")"
   ]
  },
  {
   "cell_type": "markdown",
   "id": "46d9c8b2",
   "metadata": {},
   "source": [
    "# Explanation"
   ]
  },
  {
   "cell_type": "markdown",
   "id": "08c5b88d",
   "metadata": {},
   "source": [
    "The is_anagram function takes two string parameters, str1 and str2, and checks if they are anagrams.\n",
    "\n",
    "We remove any whitespace and convert both strings to lowercase to ignore case and whitespace differences.\n",
    "\n",
    "We check if the lengths of the strings are equal. If not, they cannot be anagrams, so we return False.\n",
    "\n",
    "We create two dictionaries, char_count1 and char_count2, to store the frequencies of characters in str1 and str2, respectively.\n",
    "\n",
    "We iterate over each character in str1 and update the frequency count in char_count1.\n",
    "\n",
    "Similarly, we iterate over each character in str2 and update the frequency count in char_count2.\n",
    "\n",
    "Finally, we compare the two dictionaries char_count1 and char_count2. If they are equal, it means the strings have the same characters in the same frequency, and we return True. Otherwise, we return False.\n",
    "\n",
    "In the test code, we provide two strings word1 and word2 and check if they are anagrams using the is_anagram function. We then print the appropriate message based on the result.\n",
    "\n",
    "\n",
    "\n",
    "\n",
    "\n"
   ]
  },
  {
   "cell_type": "code",
   "execution_count": null,
   "id": "4123901b",
   "metadata": {},
   "outputs": [],
   "source": []
  },
  {
   "cell_type": "code",
   "execution_count": null,
   "id": "3a563290",
   "metadata": {},
   "outputs": [],
   "source": []
  },
  {
   "cell_type": "markdown",
   "id": "57175a30",
   "metadata": {},
   "source": [
    "# 2. Write a Python program to find the maximum and minimum values in a dictionary."
   ]
  },
  {
   "cell_type": "code",
   "execution_count": 8,
   "id": "5488dcb8",
   "metadata": {},
   "outputs": [],
   "source": [
    "def find_max_min_values(dictionary):\n",
    "    if len(dictionary) == 0:\n",
    "        print(\"The dictionary is empty.\")\n",
    "        return\n",
    "\n",
    "    # Find the maximum value and corresponding key\n",
    "    max_value = max(dictionary.values())\n",
    "    max_keys = [key for key, value in dictionary.items() if value == max_value]\n",
    "\n",
    "    # Find the minimum value and corresponding key\n",
    "    min_value = min(dictionary.values())\n",
    "    min_keys = [key for key, value in dictionary.items() if value == min_value]\n",
    "\n",
    "    return max_value, max_keys, min_value, min_keys\n",
    "\n"
   ]
  },
  {
   "cell_type": "code",
   "execution_count": 9,
   "id": "2aab1b17",
   "metadata": {},
   "outputs": [
    {
     "name": "stdout",
     "output_type": "stream",
     "text": [
      "Maximum value(s):\n",
      "C: 8\n",
      "E: 8\n",
      "Minimum value(s):\n",
      "D: 1\n"
     ]
    }
   ],
   "source": [
    "# Test the function\n",
    "my_dict = {'A': 5, 'B': 2, 'C': 8, 'D': 1, 'E': 8}\n",
    "max_value, max_keys, min_value, min_keys = find_max_min_values(my_dict)\n",
    "\n",
    "print(\"Maximum value(s):\")\n",
    "for key in max_keys:\n",
    "    print(f\"{key}: {max_value}\")\n",
    "\n",
    "print(\"Minimum value(s):\")\n",
    "for key in min_keys:\n",
    "    print(f\"{key}: {min_value}\")\n"
   ]
  },
  {
   "cell_type": "markdown",
   "id": "9199bce4",
   "metadata": {},
   "source": [
    "# Explanation"
   ]
  },
  {
   "cell_type": "markdown",
   "id": "cd81cfdf",
   "metadata": {},
   "source": [
    "The find_max_min_values function takes a dictionary as input and returns the maximum and minimum values along with their corresponding keys.\n",
    "\n",
    "We first check if the dictionary is empty. If it is, we print a message and return from the function.\n",
    "\n",
    "We use the max() function to find the maximum value in the dictionary by comparing the values. The max() function returns the maximum value.\n",
    "\n",
    "To find the corresponding key(s) for the maximum value, we use a list comprehension to iterate over the dictionary items and check if the value matches the maximum value. We store the matching keys in the max_keys list.\n",
    "\n",
    "Similarly, we use the min() function to find the minimum value in the dictionary and store it in min_value.\n",
    "\n",
    "To find the corresponding key(s) for the minimum value, we use another list comprehension and store the matching keys in the min_keys list.\n",
    "\n",
    "Finally, we return the maximum value, maximum keys, minimum value, and minimum keys from the function.\n",
    "\n",
    "In the test code, we create a sample dictionary my_dict with some key-value pairs.\n",
    "\n",
    "We call the find_max_min_values function with my_dict and store the returned values in variables.\n",
    "\n",
    "We then print the maximum value(s) along with their keys, followed by the minimum value(s) along with their keys."
   ]
  },
  {
   "cell_type": "code",
   "execution_count": null,
   "id": "a5952776",
   "metadata": {},
   "outputs": [],
   "source": []
  },
  {
   "cell_type": "code",
   "execution_count": null,
   "id": "e8918604",
   "metadata": {},
   "outputs": [],
   "source": []
  },
  {
   "cell_type": "markdown",
   "id": "1e51a073",
   "metadata": {},
   "source": [
    "# 3. Write a Python program to find the average of a list of numbers.\n"
   ]
  },
  {
   "cell_type": "code",
   "execution_count": 11,
   "id": "b888edef",
   "metadata": {},
   "outputs": [],
   "source": [
    "def calculate_average(numbers):\n",
    "    if len(numbers) == 0:\n",
    "        print(\"The list is empty.\")\n",
    "        return None\n",
    "\n",
    "    sum_of_numbers = sum(numbers)\n",
    "    average = sum_of_numbers / len(numbers)\n",
    "    return average\n",
    "\n"
   ]
  },
  {
   "cell_type": "code",
   "execution_count": 12,
   "id": "63bfea0c",
   "metadata": {},
   "outputs": [
    {
     "name": "stdout",
     "output_type": "stream",
     "text": [
      "The average of the list is: 3.0\n"
     ]
    }
   ],
   "source": [
    "# Test the function\n",
    "my_list = [1, 2, 3, 4, 5]\n",
    "average = calculate_average(my_list)\n",
    "\n",
    "if average is not None:\n",
    "    print(f\"The average of the list is: {average}\")\n"
   ]
  },
  {
   "cell_type": "markdown",
   "id": "1c161e4c",
   "metadata": {},
   "source": [
    "# Explanation"
   ]
  },
  {
   "cell_type": "markdown",
   "id": "0d1cd8a2",
   "metadata": {},
   "source": [
    "The calculate_average function takes a list of numbers as input and returns the average.\n",
    "\n",
    "We first check if the list is empty. If it is, we print a message and return None.\n",
    "\n",
    "We calculate the sum of all the numbers in the list using the sum() function.\n",
    "\n",
    "Next, we divide the sum by the length of the list to get the average.\n",
    "\n",
    "We return the calculated average from the function.\n",
    "\n",
    "In the test code, we create a sample list my_list with some numbers.\n",
    "\n",
    "We call the calculate_average function with my_list and store the returned average in the average variable.\n",
    "\n",
    "We then check if the average is not None (to handle the case when the list is empty).\n",
    "\n",
    "If the average is not None, we print the calculated average using f-string formatting."
   ]
  },
  {
   "cell_type": "code",
   "execution_count": null,
   "id": "3abd7c93",
   "metadata": {},
   "outputs": [],
   "source": []
  },
  {
   "cell_type": "code",
   "execution_count": null,
   "id": "523bb35a",
   "metadata": {},
   "outputs": [],
   "source": []
  },
  {
   "cell_type": "markdown",
   "id": "051595bb",
   "metadata": {},
   "source": [
    "# 4. Write a Python program to remove all vowels from a string."
   ]
  },
  {
   "cell_type": "code",
   "execution_count": 13,
   "id": "e8226832",
   "metadata": {},
   "outputs": [],
   "source": [
    "def remove_vowels(string):\n",
    "    vowels = \"aeiouAEIOU\"  # Define a string containing all vowels (both lowercase and uppercase)\n",
    "    without_vowels = \"\"  # Initialize an empty string to store characters without vowels\n",
    "\n",
    "    for char in string:  # Iterate over each character in the input string\n",
    "        if char not in vowels:  # Check if the character is not a vowel\n",
    "            without_vowels += char  # Append the character to the without_vowels string\n",
    "\n",
    "    return without_vowels  # Return the resulting string without vowels\n",
    "\n"
   ]
  },
  {
   "cell_type": "code",
   "execution_count": 14,
   "id": "86257400",
   "metadata": {},
   "outputs": [
    {
     "name": "stdout",
     "output_type": "stream",
     "text": [
      "The string without vowels: Hll, Wrld!\n"
     ]
    }
   ],
   "source": [
    "# Test the function\n",
    "my_string = \"Hello, World!\"\n",
    "result = remove_vowels(my_string)\n",
    "print(f\"The string without vowels: {result}\")\n"
   ]
  },
  {
   "cell_type": "markdown",
   "id": "6c1ac9cd",
   "metadata": {},
   "source": [
    "# Explanation"
   ]
  },
  {
   "cell_type": "markdown",
   "id": "74f4a4b0",
   "metadata": {},
   "source": [
    "The remove_vowels function takes a string as input and returns a new string with all vowels removed.\n",
    "\n",
    "The vowels string contains all the lowercase and uppercase vowels.\n",
    "\n",
    "The without_vowels string is initialized as an empty string to store characters from the input string that are not vowels.\n",
    "\n",
    "The for loop iterates over each character, char, in the input string.\n",
    "\n",
    "Inside the loop, the if statement checks if the character is not present in the vowels string, indicating that it is not a vowel.\n",
    "\n",
    "If the character is not a vowel, it is appended to the without_vowels string using the += operator.\n",
    "\n",
    "After processing all the characters in the input string, the resulting string without vowels is returned.\n",
    "\n",
    "In the test code, a sample string, my_string, is provided.\n",
    "\n",
    "The remove_vowels function is called with my_string, and the returned result is stored in the result variable.\n",
    "\n",
    "Finally, the result string is printed to display the original string without any vowels.\n"
   ]
  },
  {
   "cell_type": "code",
   "execution_count": null,
   "id": "83f87a88",
   "metadata": {},
   "outputs": [],
   "source": []
  },
  {
   "cell_type": "code",
   "execution_count": null,
   "id": "bfa2a7dc",
   "metadata": {},
   "outputs": [],
   "source": []
  },
  {
   "cell_type": "markdown",
   "id": "2c2426db",
   "metadata": {},
   "source": [
    "# 5. Write a Python function to calculate the factorial of a number using recursion."
   ]
  },
  {
   "cell_type": "code",
   "execution_count": 16,
   "id": "2c3b652c",
   "metadata": {},
   "outputs": [],
   "source": [
    "def factorial_recursive(n):\n",
    "    # Base case: factorial of 0 or 1 is 1\n",
    "    if n == 0 or n == 1:\n",
    "        return 1\n",
    "    # Recursive case: factorial of n is n multiplied by factorial of (n-1)\n",
    "    else:\n",
    "        return n * factorial_recursive(n - 1)\n",
    "\n",
    "\n"
   ]
  },
  {
   "cell_type": "code",
   "execution_count": 17,
   "id": "0b4b267f",
   "metadata": {},
   "outputs": [
    {
     "name": "stdout",
     "output_type": "stream",
     "text": [
      "The factorial of 5 is: 120\n"
     ]
    }
   ],
   "source": [
    "# Test the function\n",
    "number = 5\n",
    "factorial = factorial_recursive(number)\n",
    "print(f\"The factorial of {number} is: {factorial}\")"
   ]
  },
  {
   "cell_type": "markdown",
   "id": "1d913ac6",
   "metadata": {},
   "source": [
    "# Explanation"
   ]
  },
  {
   "cell_type": "markdown",
   "id": "6537416e",
   "metadata": {},
   "source": [
    "The factorial_recursive function takes an integer n as input and calculates its factorial using recursion.\n",
    "\n",
    "The base case is defined for n equal to 0 or 1, where the factorial is 1. When n reaches 0 or 1, the function returns 1.\n",
    "\n",
    "In the recursive case, the function calculates the factorial of n by multiplying n with the factorial of (n-1).\n",
    "\n",
    "The function calls itself with the argument (n-1) until it reaches the base case.\n",
    "\n",
    "Once the base case is reached, the function starts returning the factorial values back up the recursion chain.\n",
    "\n",
    "In the test code, a sample number is assigned to the variable number.\n",
    "\n",
    "The factorial_recursive function is called with number, and the calculated factorial is stored in the factorial variable.\n",
    "\n",
    "Finally, the calculated factorial is printed using f-string formatting."
   ]
  },
  {
   "cell_type": "code",
   "execution_count": null,
   "id": "e833a2e1",
   "metadata": {},
   "outputs": [],
   "source": []
  },
  {
   "cell_type": "code",
   "execution_count": null,
   "id": "5241f148",
   "metadata": {},
   "outputs": [],
   "source": []
  },
  {
   "cell_type": "markdown",
   "id": "05186055",
   "metadata": {},
   "source": [
    "# 6. Write a Python program to merge two unsorted lists into a single sorted list using the merge sort algorithm."
   ]
  },
  {
   "cell_type": "code",
   "execution_count": 19,
   "id": "787939e0",
   "metadata": {},
   "outputs": [],
   "source": [
    "def merge_sort_merge(left, right):\n",
    "    merged = []\n",
    "    left_index, right_index = 0, 0\n",
    "\n",
    "    # Compare elements from both lists and append the smaller element to the merged list\n",
    "    while left_index < len(left) and right_index < len(right):\n",
    "        if left[left_index] <= right[right_index]:\n",
    "            merged.append(left[left_index])\n",
    "            left_index += 1\n",
    "        else:\n",
    "            merged.append(right[right_index])\n",
    "            right_index += 1\n",
    "\n",
    "    # Append any remaining elements from the left and right lists\n",
    "    merged.extend(left[left_index:])\n",
    "    merged.extend(right[right_index:])\n",
    "\n",
    "    return merged\n",
    "\n",
    "def merge_sort(lst):\n",
    "    if len(lst) <= 1:\n",
    "        return lst\n",
    "\n",
    "    mid = len(lst) // 2\n",
    "    left = lst[:mid]\n",
    "    right = lst[mid:]\n",
    "\n",
    "    # Recursively split the list into halves\n",
    "    left = merge_sort(left)\n",
    "    right = merge_sort(right)\n",
    "\n",
    "    # Merge the sorted halves\n",
    "    return merge_sort_merge(left, right)\n",
    "\n"
   ]
  },
  {
   "cell_type": "code",
   "execution_count": 20,
   "id": "2f0eac29",
   "metadata": {},
   "outputs": [
    {
     "name": "stdout",
     "output_type": "stream",
     "text": [
      "Merged and sorted list: [0, 1, 2, 3, 4, 5, 6, 7, 8, 9]\n"
     ]
    }
   ],
   "source": [
    "# Test the program\n",
    "list1 = [5, 2, 8, 1, 7]\n",
    "list2 = [3, 6, 4, 9, 0]\n",
    "\n",
    "merged_list = merge_sort(list1 + list2)\n",
    "print(\"Merged and sorted list:\", merged_list)\n"
   ]
  },
  {
   "cell_type": "markdown",
   "id": "d0c385f3",
   "metadata": {},
   "source": [
    "# Explanation"
   ]
  },
  {
   "cell_type": "markdown",
   "id": "5351b715",
   "metadata": {},
   "source": [
    "The merge_sort_merge function takes two lists, left and right, and merges them into a single sorted list.\n",
    "\n",
    "We initialize an empty list, merged, to store the merged result.\n",
    "\n",
    "The left_index and right_index variables keep track of the current indices in the left and right lists.\n",
    "\n",
    "We compare elements from both lists using a while loop and append the smaller element to the merged list.\n",
    "\n",
    "After appending an element, we increment the corresponding index.\n",
    "\n",
    "Once we reach the end of either the left or right list, we append any remaining elements to the merged list using the extend() method.\n",
    "\n",
    "The merged list is then returned.\n",
    "\n",
    "The merge_sort function implements the merge sort algorithm.\n",
    "\n",
    "If the length of the list is less than or equal to 1, it is already sorted, so we return the list.\n",
    "\n",
    "Otherwise, we calculate the midpoint (mid) of the list and split it into two halves, left and right.\n",
    "\n",
    "We recursively call merge_sort on both halves to sort them.\n",
    "\n",
    "Finally, we call the merge_sort_merge function to merge the sorted halves and return the merged result.\n",
    "\n",
    "In the test code, two sample lists, list1 and list2, are provided.\n",
    "\n",
    "The lists are concatenated (list1 + list2) and passed to merge_sort to obtain the merged and sorted list.\n",
    "\n",
    "The merged list is then printed."
   ]
  },
  {
   "cell_type": "code",
   "execution_count": null,
   "id": "3fea5361",
   "metadata": {},
   "outputs": [],
   "source": []
  },
  {
   "cell_type": "code",
   "execution_count": null,
   "id": "a9c0f236",
   "metadata": {},
   "outputs": [],
   "source": []
  },
  {
   "cell_type": "markdown",
   "id": "d2e1d5bf",
   "metadata": {},
   "source": [
    "# 7. Write a Python program to find the GCD (Greatest Common Divisor) of two numbers."
   ]
  },
  {
   "cell_type": "code",
   "execution_count": 21,
   "id": "74a35bdf",
   "metadata": {},
   "outputs": [],
   "source": [
    "def gcd(a, b):\n",
    "    while b != 0:\n",
    "        a, b = b, a % b\n",
    "    return a\n",
    "\n"
   ]
  },
  {
   "cell_type": "code",
   "execution_count": 22,
   "id": "7ccaccdf",
   "metadata": {},
   "outputs": [
    {
     "name": "stdout",
     "output_type": "stream",
     "text": [
      "The GCD of 36 and 48 is: 12\n"
     ]
    }
   ],
   "source": [
    "# Test the program\n",
    "number1 = 36\n",
    "number2 = 48\n",
    "\n",
    "result = gcd(number1, number2)\n",
    "print(f\"The GCD of {number1} and {number2} is: {result}\")\n"
   ]
  },
  {
   "cell_type": "markdown",
   "id": "6b3eca6b",
   "metadata": {},
   "source": [
    "# Explanation"
   ]
  },
  {
   "cell_type": "markdown",
   "id": "1a09b13d",
   "metadata": {},
   "source": [
    "The gcd function takes two numbers, a and b, and finds their GCD using the Euclidean algorithm.\n",
    "\n",
    "In the Euclidean algorithm, we repeatedly divide a by b and update a with the value of b and b with the remainder (a % b).\n",
    "\n",
    "This process continues until b becomes 0, indicating that a is the GCD.\n",
    "\n",
    "Finally, the function returns the GCD.\n",
    "\n",
    "In the test code, two sample numbers, number1 and number2, are provided.\n",
    "\n",
    "The gcd function is called with number1 and number2, and the calculated GCD is stored in the result variable.\n",
    "\n",
    "Finally, the calculated GCD is printed using f-string formatting."
   ]
  },
  {
   "cell_type": "code",
   "execution_count": null,
   "id": "53f9cd1c",
   "metadata": {},
   "outputs": [],
   "source": []
  },
  {
   "cell_type": "code",
   "execution_count": null,
   "id": "4bbfb615",
   "metadata": {},
   "outputs": [],
   "source": []
  },
  {
   "cell_type": "markdown",
   "id": "31271c0e",
   "metadata": {},
   "source": [
    "# 8. Write a Python program to find the second-largest element in a list."
   ]
  },
  {
   "cell_type": "code",
   "execution_count": 23,
   "id": "3558353b",
   "metadata": {},
   "outputs": [],
   "source": [
    "def find_second_largest(numbers):\n",
    "    if len(numbers) < 2:\n",
    "        print(\"The list does not contain enough elements.\")\n",
    "        return None\n",
    "\n",
    "    largest = float('-inf')  # Set the largest value to negative infinity\n",
    "    second_largest = float('-inf')  # Set the second-largest value to negative infinity\n",
    "\n",
    "    for num in numbers:\n",
    "        if num > largest:\n",
    "            second_largest = largest  # Update second_largest with previous largest value\n",
    "            largest = num  # Update largest with the current number\n",
    "        elif num > second_largest and num != largest:\n",
    "            second_largest = num  # Update second_largest with the current number\n",
    "\n",
    "    if second_largest == float('-inf'):\n",
    "        print(\"There is no second-largest element.\")\n",
    "        return None\n",
    "    else:\n",
    "        return second_largest\n",
    "\n"
   ]
  },
  {
   "cell_type": "code",
   "execution_count": 24,
   "id": "8e881d5c",
   "metadata": {},
   "outputs": [
    {
     "name": "stdout",
     "output_type": "stream",
     "text": [
      "The second-largest element in the list is: 7\n"
     ]
    }
   ],
   "source": [
    "# Test the program\n",
    "my_list = [5, 2, 8, 1, 7, 8, 3]\n",
    "second_largest = find_second_largest(my_list)\n",
    "\n",
    "if second_largest is not None:\n",
    "    print(f\"The second-largest element in the list is: {second_largest}\")\n"
   ]
  },
  {
   "cell_type": "markdown",
   "id": "e53ddf15",
   "metadata": {},
   "source": [
    "# Explanation"
   ]
  },
  {
   "cell_type": "markdown",
   "id": "ea3c8bfd",
   "metadata": {},
   "source": [
    "The find_second_largest function takes a list of numbers as input and finds the second-largest element in the list.\n",
    "\n",
    "The function checks if the list has fewer than 2 elements. If so, it prints a message and returns None.\n",
    "\n",
    "The largest and second_largest variables are initialized to negative infinity using float('-inf'). They store the largest and second-largest elements found so far.\n",
    "\n",
    "The function iterates over each number, num, in the list using a for loop.\n",
    "\n",
    "Inside the loop, if num is greater than largest, it means a new largest element is found. The current value of largest is assigned to second_largest, and largest is updated with the current number.\n",
    "\n",
    "If num is greater than second_largest but not equal to largest, it means a new second-largest element is found. second_largest is updated with the current number.\n",
    "\n",
    "After processing all the numbers, if second_largest is still negative infinity, it means there is no second-largest element in the list. The function prints a message and returns None.\n",
    "\n",
    "Otherwise, the function returns the value of second_largest.\n",
    "\n",
    "In the test code, a sample list, my_list, is provided.\n",
    "\n",
    "The find_second_largest function is called with my_list, and the returned second-largest element is stored in the second_largest variable.\n",
    "\n",
    "Finally, if the second_largest is not None, it means a second-largest element exists, and its value is printed."
   ]
  },
  {
   "cell_type": "code",
   "execution_count": null,
   "id": "903ffde9",
   "metadata": {},
   "outputs": [],
   "source": []
  },
  {
   "cell_type": "code",
   "execution_count": null,
   "id": "37e1d93d",
   "metadata": {},
   "outputs": [],
   "source": []
  },
  {
   "cell_type": "markdown",
   "id": "7035ed8e",
   "metadata": {},
   "source": [
    "# 9. Write a Python program to find the longest common subsequence between two strings using dynamic programming."
   ]
  },
  {
   "cell_type": "code",
   "execution_count": 25,
   "id": "61c983f6",
   "metadata": {},
   "outputs": [],
   "source": [
    "def longest_common_subsequence(str1, str2):\n",
    "    m = len(str1)\n",
    "    n = len(str2)\n",
    "\n",
    "    # Create a matrix to store the lengths of LCS for substrings\n",
    "    dp = [[0] * (n + 1) for _ in range(m + 1)]\n",
    "\n",
    "    # Fill the matrix bottom-up to compute LCS lengths\n",
    "    for i in range(1, m + 1):\n",
    "        for j in range(1, n + 1):\n",
    "            if str1[i - 1] == str2[j - 1]:\n",
    "                dp[i][j] = dp[i - 1][j - 1] + 1\n",
    "            else:\n",
    "                dp[i][j] = max(dp[i - 1][j], dp[i][j - 1])\n",
    "\n",
    "    # Retrieve the LCS by backtracking through the matrix\n",
    "    lcs = \"\"\n",
    "    i, j = m, n\n",
    "    while i > 0 and j > 0:\n",
    "        if str1[i - 1] == str2[j - 1]:\n",
    "            lcs = str1[i - 1] + lcs\n",
    "            i -= 1\n",
    "            j -= 1\n",
    "        elif dp[i - 1][j] > dp[i][j - 1]:\n",
    "            i -= 1\n",
    "        else:\n",
    "            j -= 1\n",
    "\n",
    "    return lcs\n",
    "\n"
   ]
  },
  {
   "cell_type": "code",
   "execution_count": 26,
   "id": "37c3e507",
   "metadata": {},
   "outputs": [
    {
     "name": "stdout",
     "output_type": "stream",
     "text": [
      "Longest Common Subsequence: GTAB\n"
     ]
    }
   ],
   "source": [
    "# Test the program\n",
    "string1 = \"AGGTAB\"\n",
    "string2 = \"GXTXAYB\"\n",
    "lcs = longest_common_subsequence(string1, string2)\n",
    "print(\"Longest Common Subsequence:\", lcs)\n"
   ]
  },
  {
   "cell_type": "markdown",
   "id": "bf14dd34",
   "metadata": {},
   "source": [
    "# Explanation"
   ]
  },
  {
   "cell_type": "markdown",
   "id": "30d12aba",
   "metadata": {},
   "source": [
    "The longest_common_subsequence function takes two strings, str1 and str2, and finds the longest common subsequence between them using dynamic programming.\n",
    "\n",
    "We initialize m and n as the lengths of str1 and str2, respectively.\n",
    "\n",
    "A matrix dp is created with dimensions (m+1) x (n+1) to store the lengths of LCS for all possible substrings.\n",
    "\n",
    "We use a bottom-up approach to fill the matrix dp by comparing characters of str1 and str2.\n",
    "\n",
    "If the characters at the current positions (str1[i-1] and str2[j-1]) are the same, we increment the length of the LCS by 1 (dp[i][j] = dp[i-1][j-1] + 1).\n",
    "\n",
    "If the characters are different, we take the maximum of the lengths of LCS obtained by excluding each character separately (dp[i][j] = max(dp[i-1][j], dp[i][j-1])).\n",
    "\n",
    "Once the matrix is filled, we backtrack through it to retrieve the LCS.\n",
    "\n",
    "We start from the bottom-right corner of the matrix (i = m, j = n) and check the characters of str1 and str2.\n",
    "\n",
    "If the characters are the same, we add that character to the LCS and move diagonally up-left (i -= 1, j -= 1).\n",
    "\n",
    "If the characters are different, we move either up (i -= 1) or left (j -= 1) based on the greater length of LCS obtained from excluding one character.\n",
    "\n",
    "Finally, the function returns the LCS.\n",
    "\n",
    "In the test code, two sample strings, string1 and string2, are provided.\n",
    "\n",
    "The longest_common_subsequence function is called with string1 and string2, and the returned longest common subsequence is stored in the variable lcs.\n",
    "\n",
    "Finally, the longest common subsequence is printed.\n",
    "\n"
   ]
  },
  {
   "cell_type": "code",
   "execution_count": null,
   "id": "c4be5230",
   "metadata": {},
   "outputs": [],
   "source": []
  }
 ],
 "metadata": {
  "kernelspec": {
   "display_name": "Python 3 (ipykernel)",
   "language": "python",
   "name": "python3"
  },
  "language_info": {
   "codemirror_mode": {
    "name": "ipython",
    "version": 3
   },
   "file_extension": ".py",
   "mimetype": "text/x-python",
   "name": "python",
   "nbconvert_exporter": "python",
   "pygments_lexer": "ipython3",
   "version": "3.10.9"
  }
 },
 "nbformat": 4,
 "nbformat_minor": 5
}
